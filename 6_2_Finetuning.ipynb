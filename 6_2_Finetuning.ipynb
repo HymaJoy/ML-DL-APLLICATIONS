{
  "nbformat": 4,
  "nbformat_minor": 0,
  "metadata": {
    "colab": {
      "provenance": [],
      "machine_shape": "hm",
      "include_colab_link": true
    },
    "kernelspec": {
      "name": "python3",
      "display_name": "Python 3"
    },
    "language_info": {
      "name": "python"
    },
    "accelerator": "GPU",
    "gpuClass": "standard"
  },
  "cells": [
    {
      "cell_type": "markdown",
      "metadata": {
        "id": "view-in-github",
        "colab_type": "text"
      },
      "source": [
        "<a href=\"https://colab.research.google.com/github/HymaJoy/ML-DL-APLLICATIONS/blob/main/6_2_Finetuning.ipynb\" target=\"_parent\"><img src=\"https://colab.research.google.com/assets/colab-badge.svg\" alt=\"Open In Colab\"/></a>"
      ]
    },
    {
      "cell_type": "code",
      "source": [
        "from google.colab import drive\n",
        "drive.mount('/content/drive')"
      ],
      "metadata": {
        "colab": {
          "base_uri": "https://localhost:8080/"
        },
        "id": "Zof-9rOL-ql7",
        "outputId": "8b389078-919c-4028-fac1-ca7d0c6761eb"
      },
      "execution_count": 1,
      "outputs": [
        {
          "output_type": "stream",
          "name": "stdout",
          "text": [
            "Mounted at /content/drive\n"
          ]
        }
      ]
    },
    {
      "cell_type": "code",
      "execution_count": 2,
      "metadata": {
        "colab": {
          "base_uri": "https://localhost:8080/"
        },
        "id": "JsYLfv0YuVPv",
        "outputId": "44cba469-2bfc-46b7-f4fa-dbbb314aee7e"
      },
      "outputs": [
        {
          "output_type": "stream",
          "name": "stdout",
          "text": [
            "2.9.2\n"
          ]
        }
      ],
      "source": [
        "import tensorflow as tf\n",
        "print(tf.__version__)\n",
        "\n",
        "from tensorflow import keras\n",
        "tf.random.set_seed(42)\n",
        "\n",
        "import numpy as np\n",
        "np.random.seed(42)\n",
        "\n",
        "import matplotlib.pyplot as plt\n",
        "%matplotlib inline"
      ]
    },
    {
      "cell_type": "markdown",
      "source": [
        "#Load the dataset which is already processed"
      ],
      "metadata": {
        "id": "Hdi6sVd4uiaA"
      }
    },
    {
      "cell_type": "code",
      "source": [
        "# load numpy array from npy file\n",
        "from numpy import load\n",
        "\n",
        "X_train_std = load('/content/drive/MyDrive/Models/X_train_std.npy')\n",
        "X_test_std = load('/content/drive/MyDrive/Models/X_test_std.npy')\n",
        "\n",
        "y_train = load('/content/drive/MyDrive/Models/y_train.npy')\n",
        "y_test = load('/content/drive/MyDrive/Models/y_test.npy')"
      ],
      "metadata": {
        "id": "YDyrFa4HubnX"
      },
      "execution_count": 3,
      "outputs": []
    },
    {
      "cell_type": "code",
      "source": [
        "print(\"X_train_std_shape: {}\".format(X_train_std.shape))\n",
        "print(\"X_test_std_shape: {}\".format(X_test_std.shape))"
      ],
      "metadata": {
        "colab": {
          "base_uri": "https://localhost:8080/"
        },
        "id": "-zREyC3wujts",
        "outputId": "a44f9738-eae6-4329-80ea-9991529a5a19"
      },
      "execution_count": 4,
      "outputs": [
        {
          "output_type": "stream",
          "name": "stdout",
          "text": [
            "X_train_std_shape: (400, 299, 299, 3)\n",
            "X_test_std_shape: (100, 299, 299, 3)\n"
          ]
        }
      ]
    },
    {
      "cell_type": "code",
      "source": [
        "# Load the saved best model\n",
        "\n",
        "model_FineTune = keras.models.load_model('/content/drive/MyDrive/Models/01_Xception_TransferLearning_Best_Model.h5')"
      ],
      "metadata": {
        "id": "6KNKodIuu1Hi"
      },
      "execution_count": 5,
      "outputs": []
    },
    {
      "cell_type": "code",
      "source": [
        "model_FineTune.summary()"
      ],
      "metadata": {
        "colab": {
          "base_uri": "https://localhost:8080/"
        },
        "id": "eyf4Llhou4gQ",
        "outputId": "31a70803-2187-4dd6-a3f7-7dbd62f2d861"
      },
      "execution_count": 6,
      "outputs": [
        {
          "output_type": "stream",
          "name": "stdout",
          "text": [
            "Model: \"model\"\n",
            "__________________________________________________________________________________________________\n",
            " Layer (type)                   Output Shape         Param #     Connected to                     \n",
            "==================================================================================================\n",
            " input_2 (InputLayer)           [(None, None, None,  0           []                               \n",
            "                                 3)]                                                              \n",
            "                                                                                                  \n",
            " block1_conv1 (Conv2D)          (None, None, None,   864         ['input_2[0][0]']                \n",
            "                                32)                                                               \n",
            "                                                                                                  \n",
            " block1_conv1_bn (BatchNormaliz  (None, None, None,   128        ['block1_conv1[0][0]']           \n",
            " ation)                         32)                                                               \n",
            "                                                                                                  \n",
            " block1_conv1_act (Activation)  (None, None, None,   0           ['block1_conv1_bn[0][0]']        \n",
            "                                32)                                                               \n",
            "                                                                                                  \n",
            " block1_conv2 (Conv2D)          (None, None, None,   18432       ['block1_conv1_act[0][0]']       \n",
            "                                64)                                                               \n",
            "                                                                                                  \n",
            " block1_conv2_bn (BatchNormaliz  (None, None, None,   256        ['block1_conv2[0][0]']           \n",
            " ation)                         64)                                                               \n",
            "                                                                                                  \n",
            " block1_conv2_act (Activation)  (None, None, None,   0           ['block1_conv2_bn[0][0]']        \n",
            "                                64)                                                               \n",
            "                                                                                                  \n",
            " block2_sepconv1 (SeparableConv  (None, None, None,   8768       ['block1_conv2_act[0][0]']       \n",
            " 2D)                            128)                                                              \n",
            "                                                                                                  \n",
            " block2_sepconv1_bn (BatchNorma  (None, None, None,   512        ['block2_sepconv1[0][0]']        \n",
            " lization)                      128)                                                              \n",
            "                                                                                                  \n",
            " block2_sepconv2_act (Activatio  (None, None, None,   0          ['block2_sepconv1_bn[0][0]']     \n",
            " n)                             128)                                                              \n",
            "                                                                                                  \n",
            " block2_sepconv2 (SeparableConv  (None, None, None,   17536      ['block2_sepconv2_act[0][0]']    \n",
            " 2D)                            128)                                                              \n",
            "                                                                                                  \n",
            " block2_sepconv2_bn (BatchNorma  (None, None, None,   512        ['block2_sepconv2[0][0]']        \n",
            " lization)                      128)                                                              \n",
            "                                                                                                  \n",
            " conv2d_4 (Conv2D)              (None, None, None,   8192        ['block1_conv2_act[0][0]']       \n",
            "                                128)                                                              \n",
            "                                                                                                  \n",
            " block2_pool (MaxPooling2D)     (None, None, None,   0           ['block2_sepconv2_bn[0][0]']     \n",
            "                                128)                                                              \n",
            "                                                                                                  \n",
            " batch_normalization_4 (BatchNo  (None, None, None,   512        ['conv2d_4[0][0]']               \n",
            " rmalization)                   128)                                                              \n",
            "                                                                                                  \n",
            " add_12 (Add)                   (None, None, None,   0           ['block2_pool[0][0]',            \n",
            "                                128)                              'batch_normalization_4[0][0]']  \n",
            "                                                                                                  \n",
            " block3_sepconv1_act (Activatio  (None, None, None,   0          ['add_12[0][0]']                 \n",
            " n)                             128)                                                              \n",
            "                                                                                                  \n",
            " block3_sepconv1 (SeparableConv  (None, None, None,   33920      ['block3_sepconv1_act[0][0]']    \n",
            " 2D)                            256)                                                              \n",
            "                                                                                                  \n",
            " block3_sepconv1_bn (BatchNorma  (None, None, None,   1024       ['block3_sepconv1[0][0]']        \n",
            " lization)                      256)                                                              \n",
            "                                                                                                  \n",
            " block3_sepconv2_act (Activatio  (None, None, None,   0          ['block3_sepconv1_bn[0][0]']     \n",
            " n)                             256)                                                              \n",
            "                                                                                                  \n",
            " block3_sepconv2 (SeparableConv  (None, None, None,   67840      ['block3_sepconv2_act[0][0]']    \n",
            " 2D)                            256)                                                              \n",
            "                                                                                                  \n",
            " block3_sepconv2_bn (BatchNorma  (None, None, None,   1024       ['block3_sepconv2[0][0]']        \n",
            " lization)                      256)                                                              \n",
            "                                                                                                  \n",
            " conv2d_5 (Conv2D)              (None, None, None,   32768       ['add_12[0][0]']                 \n",
            "                                256)                                                              \n",
            "                                                                                                  \n",
            " block3_pool (MaxPooling2D)     (None, None, None,   0           ['block3_sepconv2_bn[0][0]']     \n",
            "                                256)                                                              \n",
            "                                                                                                  \n",
            " batch_normalization_5 (BatchNo  (None, None, None,   1024       ['conv2d_5[0][0]']               \n",
            " rmalization)                   256)                                                              \n",
            "                                                                                                  \n",
            " add_13 (Add)                   (None, None, None,   0           ['block3_pool[0][0]',            \n",
            "                                256)                              'batch_normalization_5[0][0]']  \n",
            "                                                                                                  \n",
            " block4_sepconv1_act (Activatio  (None, None, None,   0          ['add_13[0][0]']                 \n",
            " n)                             256)                                                              \n",
            "                                                                                                  \n",
            " block4_sepconv1 (SeparableConv  (None, None, None,   188672     ['block4_sepconv1_act[0][0]']    \n",
            " 2D)                            728)                                                              \n",
            "                                                                                                  \n",
            " block4_sepconv1_bn (BatchNorma  (None, None, None,   2912       ['block4_sepconv1[0][0]']        \n",
            " lization)                      728)                                                              \n",
            "                                                                                                  \n",
            " block4_sepconv2_act (Activatio  (None, None, None,   0          ['block4_sepconv1_bn[0][0]']     \n",
            " n)                             728)                                                              \n",
            "                                                                                                  \n",
            " block4_sepconv2 (SeparableConv  (None, None, None,   536536     ['block4_sepconv2_act[0][0]']    \n",
            " 2D)                            728)                                                              \n",
            "                                                                                                  \n",
            " block4_sepconv2_bn (BatchNorma  (None, None, None,   2912       ['block4_sepconv2[0][0]']        \n",
            " lization)                      728)                                                              \n",
            "                                                                                                  \n",
            " conv2d_6 (Conv2D)              (None, None, None,   186368      ['add_13[0][0]']                 \n",
            "                                728)                                                              \n",
            "                                                                                                  \n",
            " block4_pool (MaxPooling2D)     (None, None, None,   0           ['block4_sepconv2_bn[0][0]']     \n",
            "                                728)                                                              \n",
            "                                                                                                  \n",
            " batch_normalization_6 (BatchNo  (None, None, None,   2912       ['conv2d_6[0][0]']               \n",
            " rmalization)                   728)                                                              \n",
            "                                                                                                  \n",
            " add_14 (Add)                   (None, None, None,   0           ['block4_pool[0][0]',            \n",
            "                                728)                              'batch_normalization_6[0][0]']  \n",
            "                                                                                                  \n",
            " block5_sepconv1_act (Activatio  (None, None, None,   0          ['add_14[0][0]']                 \n",
            " n)                             728)                                                              \n",
            "                                                                                                  \n",
            " block5_sepconv1 (SeparableConv  (None, None, None,   536536     ['block5_sepconv1_act[0][0]']    \n",
            " 2D)                            728)                                                              \n",
            "                                                                                                  \n",
            " block5_sepconv1_bn (BatchNorma  (None, None, None,   2912       ['block5_sepconv1[0][0]']        \n",
            " lization)                      728)                                                              \n",
            "                                                                                                  \n",
            " block5_sepconv2_act (Activatio  (None, None, None,   0          ['block5_sepconv1_bn[0][0]']     \n",
            " n)                             728)                                                              \n",
            "                                                                                                  \n",
            " block5_sepconv2 (SeparableConv  (None, None, None,   536536     ['block5_sepconv2_act[0][0]']    \n",
            " 2D)                            728)                                                              \n",
            "                                                                                                  \n",
            " block5_sepconv2_bn (BatchNorma  (None, None, None,   2912       ['block5_sepconv2[0][0]']        \n",
            " lization)                      728)                                                              \n",
            "                                                                                                  \n",
            " block5_sepconv3_act (Activatio  (None, None, None,   0          ['block5_sepconv2_bn[0][0]']     \n",
            " n)                             728)                                                              \n",
            "                                                                                                  \n",
            " block5_sepconv3 (SeparableConv  (None, None, None,   536536     ['block5_sepconv3_act[0][0]']    \n",
            " 2D)                            728)                                                              \n",
            "                                                                                                  \n",
            " block5_sepconv3_bn (BatchNorma  (None, None, None,   2912       ['block5_sepconv3[0][0]']        \n",
            " lization)                      728)                                                              \n",
            "                                                                                                  \n",
            " add_15 (Add)                   (None, None, None,   0           ['block5_sepconv3_bn[0][0]',     \n",
            "                                728)                              'add_14[0][0]']                 \n",
            "                                                                                                  \n",
            " block6_sepconv1_act (Activatio  (None, None, None,   0          ['add_15[0][0]']                 \n",
            " n)                             728)                                                              \n",
            "                                                                                                  \n",
            " block6_sepconv1 (SeparableConv  (None, None, None,   536536     ['block6_sepconv1_act[0][0]']    \n",
            " 2D)                            728)                                                              \n",
            "                                                                                                  \n",
            " block6_sepconv1_bn (BatchNorma  (None, None, None,   2912       ['block6_sepconv1[0][0]']        \n",
            " lization)                      728)                                                              \n",
            "                                                                                                  \n",
            " block6_sepconv2_act (Activatio  (None, None, None,   0          ['block6_sepconv1_bn[0][0]']     \n",
            " n)                             728)                                                              \n",
            "                                                                                                  \n",
            " block6_sepconv2 (SeparableConv  (None, None, None,   536536     ['block6_sepconv2_act[0][0]']    \n",
            " 2D)                            728)                                                              \n",
            "                                                                                                  \n",
            " block6_sepconv2_bn (BatchNorma  (None, None, None,   2912       ['block6_sepconv2[0][0]']        \n",
            " lization)                      728)                                                              \n",
            "                                                                                                  \n",
            " block6_sepconv3_act (Activatio  (None, None, None,   0          ['block6_sepconv2_bn[0][0]']     \n",
            " n)                             728)                                                              \n",
            "                                                                                                  \n",
            " block6_sepconv3 (SeparableConv  (None, None, None,   536536     ['block6_sepconv3_act[0][0]']    \n",
            " 2D)                            728)                                                              \n",
            "                                                                                                  \n",
            " block6_sepconv3_bn (BatchNorma  (None, None, None,   2912       ['block6_sepconv3[0][0]']        \n",
            " lization)                      728)                                                              \n",
            "                                                                                                  \n",
            " add_16 (Add)                   (None, None, None,   0           ['block6_sepconv3_bn[0][0]',     \n",
            "                                728)                              'add_15[0][0]']                 \n",
            "                                                                                                  \n",
            " block7_sepconv1_act (Activatio  (None, None, None,   0          ['add_16[0][0]']                 \n",
            " n)                             728)                                                              \n",
            "                                                                                                  \n",
            " block7_sepconv1 (SeparableConv  (None, None, None,   536536     ['block7_sepconv1_act[0][0]']    \n",
            " 2D)                            728)                                                              \n",
            "                                                                                                  \n",
            " block7_sepconv1_bn (BatchNorma  (None, None, None,   2912       ['block7_sepconv1[0][0]']        \n",
            " lization)                      728)                                                              \n",
            "                                                                                                  \n",
            " block7_sepconv2_act (Activatio  (None, None, None,   0          ['block7_sepconv1_bn[0][0]']     \n",
            " n)                             728)                                                              \n",
            "                                                                                                  \n",
            " block7_sepconv2 (SeparableConv  (None, None, None,   536536     ['block7_sepconv2_act[0][0]']    \n",
            " 2D)                            728)                                                              \n",
            "                                                                                                  \n",
            " block7_sepconv2_bn (BatchNorma  (None, None, None,   2912       ['block7_sepconv2[0][0]']        \n",
            " lization)                      728)                                                              \n",
            "                                                                                                  \n",
            " block7_sepconv3_act (Activatio  (None, None, None,   0          ['block7_sepconv2_bn[0][0]']     \n",
            " n)                             728)                                                              \n",
            "                                                                                                  \n",
            " block7_sepconv3 (SeparableConv  (None, None, None,   536536     ['block7_sepconv3_act[0][0]']    \n",
            " 2D)                            728)                                                              \n",
            "                                                                                                  \n",
            " block7_sepconv3_bn (BatchNorma  (None, None, None,   2912       ['block7_sepconv3[0][0]']        \n",
            " lization)                      728)                                                              \n",
            "                                                                                                  \n",
            " add_17 (Add)                   (None, None, None,   0           ['block7_sepconv3_bn[0][0]',     \n",
            "                                728)                              'add_16[0][0]']                 \n",
            "                                                                                                  \n",
            " block8_sepconv1_act (Activatio  (None, None, None,   0          ['add_17[0][0]']                 \n",
            " n)                             728)                                                              \n",
            "                                                                                                  \n",
            " block8_sepconv1 (SeparableConv  (None, None, None,   536536     ['block8_sepconv1_act[0][0]']    \n",
            " 2D)                            728)                                                              \n",
            "                                                                                                  \n",
            " block8_sepconv1_bn (BatchNorma  (None, None, None,   2912       ['block8_sepconv1[0][0]']        \n",
            " lization)                      728)                                                              \n",
            "                                                                                                  \n",
            " block8_sepconv2_act (Activatio  (None, None, None,   0          ['block8_sepconv1_bn[0][0]']     \n",
            " n)                             728)                                                              \n",
            "                                                                                                  \n",
            " block8_sepconv2 (SeparableConv  (None, None, None,   536536     ['block8_sepconv2_act[0][0]']    \n",
            " 2D)                            728)                                                              \n",
            "                                                                                                  \n",
            " block8_sepconv2_bn (BatchNorma  (None, None, None,   2912       ['block8_sepconv2[0][0]']        \n",
            " lization)                      728)                                                              \n",
            "                                                                                                  \n",
            " block8_sepconv3_act (Activatio  (None, None, None,   0          ['block8_sepconv2_bn[0][0]']     \n",
            " n)                             728)                                                              \n",
            "                                                                                                  \n",
            " block8_sepconv3 (SeparableConv  (None, None, None,   536536     ['block8_sepconv3_act[0][0]']    \n",
            " 2D)                            728)                                                              \n",
            "                                                                                                  \n",
            " block8_sepconv3_bn (BatchNorma  (None, None, None,   2912       ['block8_sepconv3[0][0]']        \n",
            " lization)                      728)                                                              \n",
            "                                                                                                  \n",
            " add_18 (Add)                   (None, None, None,   0           ['block8_sepconv3_bn[0][0]',     \n",
            "                                728)                              'add_17[0][0]']                 \n",
            "                                                                                                  \n",
            " block9_sepconv1_act (Activatio  (None, None, None,   0          ['add_18[0][0]']                 \n",
            " n)                             728)                                                              \n",
            "                                                                                                  \n",
            " block9_sepconv1 (SeparableConv  (None, None, None,   536536     ['block9_sepconv1_act[0][0]']    \n",
            " 2D)                            728)                                                              \n",
            "                                                                                                  \n",
            " block9_sepconv1_bn (BatchNorma  (None, None, None,   2912       ['block9_sepconv1[0][0]']        \n",
            " lization)                      728)                                                              \n",
            "                                                                                                  \n",
            " block9_sepconv2_act (Activatio  (None, None, None,   0          ['block9_sepconv1_bn[0][0]']     \n",
            " n)                             728)                                                              \n",
            "                                                                                                  \n",
            " block9_sepconv2 (SeparableConv  (None, None, None,   536536     ['block9_sepconv2_act[0][0]']    \n",
            " 2D)                            728)                                                              \n",
            "                                                                                                  \n",
            " block9_sepconv2_bn (BatchNorma  (None, None, None,   2912       ['block9_sepconv2[0][0]']        \n",
            " lization)                      728)                                                              \n",
            "                                                                                                  \n",
            " block9_sepconv3_act (Activatio  (None, None, None,   0          ['block9_sepconv2_bn[0][0]']     \n",
            " n)                             728)                                                              \n",
            "                                                                                                  \n",
            " block9_sepconv3 (SeparableConv  (None, None, None,   536536     ['block9_sepconv3_act[0][0]']    \n",
            " 2D)                            728)                                                              \n",
            "                                                                                                  \n",
            " block9_sepconv3_bn (BatchNorma  (None, None, None,   2912       ['block9_sepconv3[0][0]']        \n",
            " lization)                      728)                                                              \n",
            "                                                                                                  \n",
            " add_19 (Add)                   (None, None, None,   0           ['block9_sepconv3_bn[0][0]',     \n",
            "                                728)                              'add_18[0][0]']                 \n",
            "                                                                                                  \n",
            " block10_sepconv1_act (Activati  (None, None, None,   0          ['add_19[0][0]']                 \n",
            " on)                            728)                                                              \n",
            "                                                                                                  \n",
            " block10_sepconv1 (SeparableCon  (None, None, None,   536536     ['block10_sepconv1_act[0][0]']   \n",
            " v2D)                           728)                                                              \n",
            "                                                                                                  \n",
            " block10_sepconv1_bn (BatchNorm  (None, None, None,   2912       ['block10_sepconv1[0][0]']       \n",
            " alization)                     728)                                                              \n",
            "                                                                                                  \n",
            " block10_sepconv2_act (Activati  (None, None, None,   0          ['block10_sepconv1_bn[0][0]']    \n",
            " on)                            728)                                                              \n",
            "                                                                                                  \n",
            " block10_sepconv2 (SeparableCon  (None, None, None,   536536     ['block10_sepconv2_act[0][0]']   \n",
            " v2D)                           728)                                                              \n",
            "                                                                                                  \n",
            " block10_sepconv2_bn (BatchNorm  (None, None, None,   2912       ['block10_sepconv2[0][0]']       \n",
            " alization)                     728)                                                              \n",
            "                                                                                                  \n",
            " block10_sepconv3_act (Activati  (None, None, None,   0          ['block10_sepconv2_bn[0][0]']    \n",
            " on)                            728)                                                              \n",
            "                                                                                                  \n",
            " block10_sepconv3 (SeparableCon  (None, None, None,   536536     ['block10_sepconv3_act[0][0]']   \n",
            " v2D)                           728)                                                              \n",
            "                                                                                                  \n",
            " block10_sepconv3_bn (BatchNorm  (None, None, None,   2912       ['block10_sepconv3[0][0]']       \n",
            " alization)                     728)                                                              \n",
            "                                                                                                  \n",
            " add_20 (Add)                   (None, None, None,   0           ['block10_sepconv3_bn[0][0]',    \n",
            "                                728)                              'add_19[0][0]']                 \n",
            "                                                                                                  \n",
            " block11_sepconv1_act (Activati  (None, None, None,   0          ['add_20[0][0]']                 \n",
            " on)                            728)                                                              \n",
            "                                                                                                  \n",
            " block11_sepconv1 (SeparableCon  (None, None, None,   536536     ['block11_sepconv1_act[0][0]']   \n",
            " v2D)                           728)                                                              \n",
            "                                                                                                  \n",
            " block11_sepconv1_bn (BatchNorm  (None, None, None,   2912       ['block11_sepconv1[0][0]']       \n",
            " alization)                     728)                                                              \n",
            "                                                                                                  \n",
            " block11_sepconv2_act (Activati  (None, None, None,   0          ['block11_sepconv1_bn[0][0]']    \n",
            " on)                            728)                                                              \n",
            "                                                                                                  \n",
            " block11_sepconv2 (SeparableCon  (None, None, None,   536536     ['block11_sepconv2_act[0][0]']   \n",
            " v2D)                           728)                                                              \n",
            "                                                                                                  \n",
            " block11_sepconv2_bn (BatchNorm  (None, None, None,   2912       ['block11_sepconv2[0][0]']       \n",
            " alization)                     728)                                                              \n",
            "                                                                                                  \n",
            " block11_sepconv3_act (Activati  (None, None, None,   0          ['block11_sepconv2_bn[0][0]']    \n",
            " on)                            728)                                                              \n",
            "                                                                                                  \n",
            " block11_sepconv3 (SeparableCon  (None, None, None,   536536     ['block11_sepconv3_act[0][0]']   \n",
            " v2D)                           728)                                                              \n",
            "                                                                                                  \n",
            " block11_sepconv3_bn (BatchNorm  (None, None, None,   2912       ['block11_sepconv3[0][0]']       \n",
            " alization)                     728)                                                              \n",
            "                                                                                                  \n",
            " add_21 (Add)                   (None, None, None,   0           ['block11_sepconv3_bn[0][0]',    \n",
            "                                728)                              'add_20[0][0]']                 \n",
            "                                                                                                  \n",
            " block12_sepconv1_act (Activati  (None, None, None,   0          ['add_21[0][0]']                 \n",
            " on)                            728)                                                              \n",
            "                                                                                                  \n",
            " block12_sepconv1 (SeparableCon  (None, None, None,   536536     ['block12_sepconv1_act[0][0]']   \n",
            " v2D)                           728)                                                              \n",
            "                                                                                                  \n",
            " block12_sepconv1_bn (BatchNorm  (None, None, None,   2912       ['block12_sepconv1[0][0]']       \n",
            " alization)                     728)                                                              \n",
            "                                                                                                  \n",
            " block12_sepconv2_act (Activati  (None, None, None,   0          ['block12_sepconv1_bn[0][0]']    \n",
            " on)                            728)                                                              \n",
            "                                                                                                  \n",
            " block12_sepconv2 (SeparableCon  (None, None, None,   536536     ['block12_sepconv2_act[0][0]']   \n",
            " v2D)                           728)                                                              \n",
            "                                                                                                  \n",
            " block12_sepconv2_bn (BatchNorm  (None, None, None,   2912       ['block12_sepconv2[0][0]']       \n",
            " alization)                     728)                                                              \n",
            "                                                                                                  \n",
            " block12_sepconv3_act (Activati  (None, None, None,   0          ['block12_sepconv2_bn[0][0]']    \n",
            " on)                            728)                                                              \n",
            "                                                                                                  \n",
            " block12_sepconv3 (SeparableCon  (None, None, None,   536536     ['block12_sepconv3_act[0][0]']   \n",
            " v2D)                           728)                                                              \n",
            "                                                                                                  \n",
            " block12_sepconv3_bn (BatchNorm  (None, None, None,   2912       ['block12_sepconv3[0][0]']       \n",
            " alization)                     728)                                                              \n",
            "                                                                                                  \n",
            " add_22 (Add)                   (None, None, None,   0           ['block12_sepconv3_bn[0][0]',    \n",
            "                                728)                              'add_21[0][0]']                 \n",
            "                                                                                                  \n",
            " block13_sepconv1_act (Activati  (None, None, None,   0          ['add_22[0][0]']                 \n",
            " on)                            728)                                                              \n",
            "                                                                                                  \n",
            " block13_sepconv1 (SeparableCon  (None, None, None,   536536     ['block13_sepconv1_act[0][0]']   \n",
            " v2D)                           728)                                                              \n",
            "                                                                                                  \n",
            " block13_sepconv1_bn (BatchNorm  (None, None, None,   2912       ['block13_sepconv1[0][0]']       \n",
            " alization)                     728)                                                              \n",
            "                                                                                                  \n",
            " block13_sepconv2_act (Activati  (None, None, None,   0          ['block13_sepconv1_bn[0][0]']    \n",
            " on)                            728)                                                              \n",
            "                                                                                                  \n",
            " block13_sepconv2 (SeparableCon  (None, None, None,   752024     ['block13_sepconv2_act[0][0]']   \n",
            " v2D)                           1024)                                                             \n",
            "                                                                                                  \n",
            " block13_sepconv2_bn (BatchNorm  (None, None, None,   4096       ['block13_sepconv2[0][0]']       \n",
            " alization)                     1024)                                                             \n",
            "                                                                                                  \n",
            " conv2d_7 (Conv2D)              (None, None, None,   745472      ['add_22[0][0]']                 \n",
            "                                1024)                                                             \n",
            "                                                                                                  \n",
            " block13_pool (MaxPooling2D)    (None, None, None,   0           ['block13_sepconv2_bn[0][0]']    \n",
            "                                1024)                                                             \n",
            "                                                                                                  \n",
            " batch_normalization_7 (BatchNo  (None, None, None,   4096       ['conv2d_7[0][0]']               \n",
            " rmalization)                   1024)                                                             \n",
            "                                                                                                  \n",
            " add_23 (Add)                   (None, None, None,   0           ['block13_pool[0][0]',           \n",
            "                                1024)                             'batch_normalization_7[0][0]']  \n",
            "                                                                                                  \n",
            " block14_sepconv1 (SeparableCon  (None, None, None,   1582080    ['add_23[0][0]']                 \n",
            " v2D)                           1536)                                                             \n",
            "                                                                                                  \n",
            " block14_sepconv1_bn (BatchNorm  (None, None, None,   6144       ['block14_sepconv1[0][0]']       \n",
            " alization)                     1536)                                                             \n",
            "                                                                                                  \n",
            " block14_sepconv1_act (Activati  (None, None, None,   0          ['block14_sepconv1_bn[0][0]']    \n",
            " on)                            1536)                                                             \n",
            "                                                                                                  \n",
            " block14_sepconv2 (SeparableCon  (None, None, None,   3159552    ['block14_sepconv1_act[0][0]']   \n",
            " v2D)                           2048)                                                             \n",
            "                                                                                                  \n",
            " block14_sepconv2_bn (BatchNorm  (None, None, None,   8192       ['block14_sepconv2[0][0]']       \n",
            " alization)                     2048)                                                             \n",
            "                                                                                                  \n",
            " block14_sepconv2_act (Activati  (None, None, None,   0          ['block14_sepconv2_bn[0][0]']    \n",
            " on)                            2048)                                                             \n",
            "                                                                                                  \n",
            " global_average_pooling2d (Glob  (None, 2048)        0           ['block14_sepconv2_act[0][0]']   \n",
            " alAveragePooling2D)                                                                              \n",
            "                                                                                                  \n",
            " dense (Dense)                  (None, 5)            10245       ['global_average_pooling2d[0][0]'\n",
            "                                                                 ]                                \n",
            "                                                                                                  \n",
            "==================================================================================================\n",
            "Total params: 20,871,725\n",
            "Trainable params: 20,817,197\n",
            "Non-trainable params: 54,528\n",
            "__________________________________________________________________________________________________\n"
          ]
        }
      ]
    },
    {
      "cell_type": "code",
      "source": [
        "model_FineTune.layers"
      ],
      "metadata": {
        "colab": {
          "base_uri": "https://localhost:8080/"
        },
        "id": "oE9nKkIV-8cA",
        "outputId": "3d0200fd-562f-4201-fc94-af11a96a55cc"
      },
      "execution_count": 7,
      "outputs": [
        {
          "output_type": "execute_result",
          "data": {
            "text/plain": [
              "[<keras.engine.input_layer.InputLayer at 0x7f246ca80340>,\n",
              " <keras.layers.convolutional.conv2d.Conv2D at 0x7f246ca80460>,\n",
              " <keras.layers.normalization.batch_normalization.BatchNormalization at 0x7f246ca804f0>,\n",
              " <keras.layers.core.activation.Activation at 0x7f246ca80250>,\n",
              " <keras.layers.convolutional.conv2d.Conv2D at 0x7f246ca80550>,\n",
              " <keras.layers.normalization.batch_normalization.BatchNormalization at 0x7f2407e1b820>,\n",
              " <keras.layers.core.activation.Activation at 0x7f2407e1b6a0>,\n",
              " <keras.layers.convolutional.separable_conv2d.SeparableConv2D at 0x7f2407e1bd30>,\n",
              " <keras.layers.normalization.batch_normalization.BatchNormalization at 0x7f2407df39a0>,\n",
              " <keras.layers.core.activation.Activation at 0x7f2407df38e0>,\n",
              " <keras.layers.convolutional.separable_conv2d.SeparableConv2D at 0x7f2407df3ee0>,\n",
              " <keras.layers.normalization.batch_normalization.BatchNormalization at 0x7f2407df76d0>,\n",
              " <keras.layers.convolutional.conv2d.Conv2D at 0x7f2407df7790>,\n",
              " <keras.layers.pooling.max_pooling2d.MaxPooling2D at 0x7f2407df7be0>,\n",
              " <keras.layers.normalization.batch_normalization.BatchNormalization at 0x7f2407dfa2b0>,\n",
              " <keras.layers.merging.add.Add at 0x7f2407dfa3a0>,\n",
              " <keras.layers.core.activation.Activation at 0x7f2407dfa820>,\n",
              " <keras.layers.convolutional.separable_conv2d.SeparableConv2D at 0x7f2407dfa880>,\n",
              " <keras.layers.normalization.batch_normalization.BatchNormalization at 0x7f2407dfa790>,\n",
              " <keras.layers.core.activation.Activation at 0x7f2407dff100>,\n",
              " <keras.layers.convolutional.separable_conv2d.SeparableConv2D at 0x7f2407dff700>,\n",
              " <keras.layers.normalization.batch_normalization.BatchNormalization at 0x7f2407dffeb0>,\n",
              " <keras.layers.convolutional.conv2d.Conv2D at 0x7f2407dfff70>,\n",
              " <keras.layers.pooling.max_pooling2d.MaxPooling2D at 0x7f2407dff280>,\n",
              " <keras.layers.normalization.batch_normalization.BatchNormalization at 0x7f2407e01a90>,\n",
              " <keras.layers.merging.add.Add at 0x7f2407e01b80>,\n",
              " <keras.layers.core.activation.Activation at 0x7f2407e01fd0>,\n",
              " <keras.layers.convolutional.separable_conv2d.SeparableConv2D at 0x7f2407e01f70>,\n",
              " <keras.layers.normalization.batch_normalization.BatchNormalization at 0x7f2407e099a0>,\n",
              " <keras.layers.core.activation.Activation at 0x7f2407e098e0>,\n",
              " <keras.layers.convolutional.separable_conv2d.SeparableConv2D at 0x7f2407e09ee0>,\n",
              " <keras.layers.normalization.batch_normalization.BatchNormalization at 0x7f2407e0e6d0>,\n",
              " <keras.layers.convolutional.conv2d.Conv2D at 0x7f2407e0e790>,\n",
              " <keras.layers.pooling.max_pooling2d.MaxPooling2D at 0x7f2407e0ebe0>,\n",
              " <keras.layers.normalization.batch_normalization.BatchNormalization at 0x7f2407d912b0>,\n",
              " <keras.layers.merging.add.Add at 0x7f2407d913a0>,\n",
              " <keras.layers.core.activation.Activation at 0x7f2407d91820>,\n",
              " <keras.layers.convolutional.separable_conv2d.SeparableConv2D at 0x7f2407d91880>,\n",
              " <keras.layers.normalization.batch_normalization.BatchNormalization at 0x7f2407d91790>,\n",
              " <keras.layers.core.activation.Activation at 0x7f2407d98100>,\n",
              " <keras.layers.convolutional.separable_conv2d.SeparableConv2D at 0x7f2407d98700>,\n",
              " <keras.layers.normalization.batch_normalization.BatchNormalization at 0x7f2407d98eb0>,\n",
              " <keras.layers.core.activation.Activation at 0x7f2407d98df0>,\n",
              " <keras.layers.convolutional.separable_conv2d.SeparableConv2D at 0x7f2407d98f70>,\n",
              " <keras.layers.normalization.batch_normalization.BatchNormalization at 0x7f2407d9bbe0>,\n",
              " <keras.layers.merging.add.Add at 0x7f2407d9bca0>,\n",
              " <keras.layers.core.activation.Activation at 0x7f2407da1160>,\n",
              " <keras.layers.convolutional.separable_conv2d.SeparableConv2D at 0x7f2407da11c0>,\n",
              " <keras.layers.normalization.batch_normalization.BatchNormalization at 0x7f2407da1ac0>,\n",
              " <keras.layers.core.activation.Activation at 0x7f2407da1a00>,\n",
              " <keras.layers.convolutional.separable_conv2d.SeparableConv2D at 0x7f2407da1fd0>,\n",
              " <keras.layers.normalization.batch_normalization.BatchNormalization at 0x7f2407da57f0>,\n",
              " <keras.layers.core.activation.Activation at 0x7f2407da5730>,\n",
              " <keras.layers.convolutional.separable_conv2d.SeparableConv2D at 0x7f2407da5d30>,\n",
              " <keras.layers.normalization.batch_normalization.BatchNormalization at 0x7f2407daa520>,\n",
              " <keras.layers.merging.add.Add at 0x7f2407daa5e0>,\n",
              " <keras.layers.core.activation.Activation at 0x7f2407daaa60>,\n",
              " <keras.layers.convolutional.separable_conv2d.SeparableConv2D at 0x7f2407daaac0>,\n",
              " <keras.layers.normalization.batch_normalization.BatchNormalization at 0x7f2407daa9d0>,\n",
              " <keras.layers.core.activation.Activation at 0x7f2407db1340>,\n",
              " <keras.layers.convolutional.separable_conv2d.SeparableConv2D at 0x7f2407db1940>,\n",
              " <keras.layers.normalization.batch_normalization.BatchNormalization at 0x7f2407db14c0>,\n",
              " <keras.layers.core.activation.Activation at 0x7f2407db50a0>,\n",
              " <keras.layers.convolutional.separable_conv2d.SeparableConv2D at 0x7f2407db56a0>,\n",
              " <keras.layers.normalization.batch_normalization.BatchNormalization at 0x7f2407db5e50>,\n",
              " <keras.layers.merging.add.Add at 0x7f2407db5f10>,\n",
              " <keras.layers.core.activation.Activation at 0x7f2407db83d0>,\n",
              " <keras.layers.convolutional.separable_conv2d.SeparableConv2D at 0x7f2407db8430>,\n",
              " <keras.layers.normalization.batch_normalization.BatchNormalization at 0x7f2407db8d30>,\n",
              " <keras.layers.core.activation.Activation at 0x7f2407db8c70>,\n",
              " <keras.layers.convolutional.separable_conv2d.SeparableConv2D at 0x7f2407db8df0>,\n",
              " <keras.layers.normalization.batch_normalization.BatchNormalization at 0x7f2407dbfa60>,\n",
              " <keras.layers.core.activation.Activation at 0x7f2407dbf9a0>,\n",
              " <keras.layers.convolutional.separable_conv2d.SeparableConv2D at 0x7f2407dbffa0>,\n",
              " <keras.layers.normalization.batch_normalization.BatchNormalization at 0x7f2407dc4790>,\n",
              " <keras.layers.merging.add.Add at 0x7f2407dc4850>,\n",
              " <keras.layers.core.activation.Activation at 0x7f2407dc4cd0>,\n",
              " <keras.layers.convolutional.separable_conv2d.SeparableConv2D at 0x7f2407dc4d30>,\n",
              " <keras.layers.normalization.batch_normalization.BatchNormalization at 0x7f2407dc8670>,\n",
              " <keras.layers.core.activation.Activation at 0x7f2407dc85b0>,\n",
              " <keras.layers.convolutional.separable_conv2d.SeparableConv2D at 0x7f2407dc8bb0>,\n",
              " <keras.layers.normalization.batch_normalization.BatchNormalization at 0x7f2407dc8730>,\n",
              " <keras.layers.core.activation.Activation at 0x7f2407dce2e0>,\n",
              " <keras.layers.convolutional.separable_conv2d.SeparableConv2D at 0x7f2407dce8e0>,\n",
              " <keras.layers.normalization.batch_normalization.BatchNormalization at 0x7f2407dce460>,\n",
              " <keras.layers.merging.add.Add at 0x7f2407dcefa0>,\n",
              " <keras.layers.core.activation.Activation at 0x7f2407d53610>,\n",
              " <keras.layers.convolutional.separable_conv2d.SeparableConv2D at 0x7f2407d53670>,\n",
              " <keras.layers.normalization.batch_normalization.BatchNormalization at 0x7f2407d53f70>,\n",
              " <keras.layers.core.activation.Activation at 0x7f2407d53580>,\n",
              " <keras.layers.convolutional.separable_conv2d.SeparableConv2D at 0x7f2407d53eb0>,\n",
              " <keras.layers.normalization.batch_normalization.BatchNormalization at 0x7f2407d57ca0>,\n",
              " <keras.layers.core.activation.Activation at 0x7f2407d57be0>,\n",
              " <keras.layers.convolutional.separable_conv2d.SeparableConv2D at 0x7f2407d57d60>,\n",
              " <keras.layers.normalization.batch_normalization.BatchNormalization at 0x7f2407d5d9d0>,\n",
              " <keras.layers.merging.add.Add at 0x7f2407d5da90>,\n",
              " <keras.layers.core.activation.Activation at 0x7f2407d5df10>,\n",
              " <keras.layers.convolutional.separable_conv2d.SeparableConv2D at 0x7f2407d5df40>,\n",
              " <keras.layers.normalization.batch_normalization.BatchNormalization at 0x7f2407d618b0>,\n",
              " <keras.layers.core.activation.Activation at 0x7f2407d617f0>,\n",
              " <keras.layers.convolutional.separable_conv2d.SeparableConv2D at 0x7f2407d61df0>,\n",
              " <keras.layers.normalization.batch_normalization.BatchNormalization at 0x7f2407d675e0>,\n",
              " <keras.layers.core.activation.Activation at 0x7f2407d67520>,\n",
              " <keras.layers.convolutional.separable_conv2d.SeparableConv2D at 0x7f2407d67b20>,\n",
              " <keras.layers.normalization.batch_normalization.BatchNormalization at 0x7f2407d676a0>,\n",
              " <keras.layers.merging.add.Add at 0x7f2407d6c3d0>,\n",
              " <keras.layers.core.activation.Activation at 0x7f2407d6c850>,\n",
              " <keras.layers.convolutional.separable_conv2d.SeparableConv2D at 0x7f2407d6c8b0>,\n",
              " <keras.layers.normalization.batch_normalization.BatchNormalization at 0x7f2407d6c7c0>,\n",
              " <keras.layers.core.activation.Activation at 0x7f2407d6f130>,\n",
              " <keras.layers.convolutional.separable_conv2d.SeparableConv2D at 0x7f2407d6f730>,\n",
              " <keras.layers.normalization.batch_normalization.BatchNormalization at 0x7f2407d6fee0>,\n",
              " <keras.layers.core.activation.Activation at 0x7f2407d6fe20>,\n",
              " <keras.layers.convolutional.separable_conv2d.SeparableConv2D at 0x7f2407d6ffa0>,\n",
              " <keras.layers.normalization.batch_normalization.BatchNormalization at 0x7f2407d73c10>,\n",
              " <keras.layers.merging.add.Add at 0x7f2407d73cd0>,\n",
              " <keras.layers.core.activation.Activation at 0x7f2407d7b190>,\n",
              " <keras.layers.convolutional.separable_conv2d.SeparableConv2D at 0x7f2407d7b1f0>,\n",
              " <keras.layers.normalization.batch_normalization.BatchNormalization at 0x7f2407d7baf0>,\n",
              " <keras.layers.core.activation.Activation at 0x7f2407d7ba30>,\n",
              " <keras.layers.convolutional.separable_conv2d.SeparableConv2D at 0x7f2407d7bfa0>,\n",
              " <keras.layers.normalization.batch_normalization.BatchNormalization at 0x7f2407d81820>,\n",
              " <keras.layers.convolutional.conv2d.Conv2D at 0x7f2407d818e0>,\n",
              " <keras.layers.pooling.max_pooling2d.MaxPooling2D at 0x7f2407d81d30>,\n",
              " <keras.layers.normalization.batch_normalization.BatchNormalization at 0x7f2407d85400>,\n",
              " <keras.layers.merging.add.Add at 0x7f2407d854f0>,\n",
              " <keras.layers.convolutional.separable_conv2d.SeparableConv2D at 0x7f2407d858e0>,\n",
              " <keras.layers.normalization.batch_normalization.BatchNormalization at 0x7f2407d85940>,\n",
              " <keras.layers.core.activation.Activation at 0x7f2407d8c190>,\n",
              " <keras.layers.convolutional.separable_conv2d.SeparableConv2D at 0x7f2407d8c700>,\n",
              " <keras.layers.normalization.batch_normalization.BatchNormalization at 0x7f2407d8ca00>,\n",
              " <keras.layers.core.activation.Activation at 0x7f2407d13190>,\n",
              " <keras.layers.pooling.global_average_pooling2d.GlobalAveragePooling2D at 0x7f2407d136d0>,\n",
              " <keras.layers.core.dense.Dense at 0x7f2407d8cfa0>]"
            ]
          },
          "metadata": {},
          "execution_count": 7
        }
      ]
    },
    {
      "cell_type": "code",
      "source": [
        "len(model_FineTune.layers)"
      ],
      "metadata": {
        "colab": {
          "base_uri": "https://localhost:8080/"
        },
        "id": "y4626IaH_eU3",
        "outputId": "1ec8f546-e691-463d-8034-5c380de97617"
      },
      "execution_count": 8,
      "outputs": [
        {
          "output_type": "execute_result",
          "data": {
            "text/plain": [
              "134"
            ]
          },
          "metadata": {},
          "execution_count": 8
        }
      ]
    },
    {
      "cell_type": "markdown",
      "metadata": {
        "id": "DHcuJyEDWXNe"
      },
      "source": [
        "## Freeze only first 60 layers\n",
        "- It is a `hyperparameter`"
      ]
    },
    {
      "cell_type": "code",
      "source": [
        "# Fine-tune the model from index 60 onwards\n",
        "\n",
        "for layer in model_FineTune.layers[:60]:\n",
        "  layer.trainable = False\n",
        "\n",
        "for layer in model_FineTune.layers[60:]:\n",
        "  layer.trainable = True\n"
      ],
      "metadata": {
        "id": "EEzqJAlxu8vm"
      },
      "execution_count": 9,
      "outputs": []
    },
    {
      "cell_type": "markdown",
      "source": [
        "#Compile and train the model\n",
        "\n",
        "\n",
        "*  Save the best weights while training\n",
        "\n",
        "\n"
      ],
      "metadata": {
        "id": "LQP-f3nHvWnK"
      }
    },
    {
      "cell_type": "code",
      "source": [
        "model_FineTune.compile(loss='sparse_categorical_crossentropy', \n",
        "                 optimizer='adam', \n",
        "                 metrics=['accuracy'])\n",
        "\n",
        "callbacks_FineTune = [            \n",
        "             keras.callbacks.ModelCheckpoint(\"bestFT.h5\",\n",
        "                                             monitor='val_accuracy',\n",
        "                                             save_weights_only=True,\n",
        "                                             save_best_only=True)\n",
        "]\n",
        "\n",
        "history_FineTune = model_FineTune.fit(x = X_train_std, y = y_train, epochs=50,\n",
        "                                      validation_split=0.1, batch_size=16, callbacks=callbacks_FineTune)"
      ],
      "metadata": {
        "colab": {
          "base_uri": "https://localhost:8080/"
        },
        "id": "XKKmg1UJvP_n",
        "outputId": "36f36c96-a3e4-4438-f4d2-3943e1ed910f"
      },
      "execution_count": 10,
      "outputs": [
        {
          "output_type": "stream",
          "name": "stdout",
          "text": [
            "Epoch 1/50\n",
            "23/23 [==============================] - 19s 331ms/step - loss: 0.0530 - accuracy: 0.9806 - val_loss: 0.4365 - val_accuracy: 0.9500\n",
            "Epoch 2/50\n",
            "23/23 [==============================] - 6s 255ms/step - loss: 0.0349 - accuracy: 0.9917 - val_loss: 1.2189 - val_accuracy: 0.8250\n",
            "Epoch 3/50\n",
            "23/23 [==============================] - 6s 258ms/step - loss: 0.0682 - accuracy: 0.9778 - val_loss: 2.4003 - val_accuracy: 0.7250\n",
            "Epoch 4/50\n",
            "23/23 [==============================] - 6s 263ms/step - loss: 0.0293 - accuracy: 0.9889 - val_loss: 2.1801 - val_accuracy: 0.7500\n",
            "Epoch 5/50\n",
            "23/23 [==============================] - 6s 280ms/step - loss: 0.0253 - accuracy: 0.9944 - val_loss: 3.2016 - val_accuracy: 0.7250\n",
            "Epoch 6/50\n",
            "23/23 [==============================] - 6s 271ms/step - loss: 0.0542 - accuracy: 0.9778 - val_loss: 4.3081 - val_accuracy: 0.8500\n",
            "Epoch 7/50\n",
            "23/23 [==============================] - 6s 276ms/step - loss: 0.2332 - accuracy: 0.9583 - val_loss: 11.1908 - val_accuracy: 0.5750\n",
            "Epoch 8/50\n",
            "23/23 [==============================] - 6s 280ms/step - loss: 0.1230 - accuracy: 0.9750 - val_loss: 2.3601 - val_accuracy: 0.8750\n",
            "Epoch 9/50\n",
            "23/23 [==============================] - 6s 280ms/step - loss: 0.0665 - accuracy: 0.9750 - val_loss: 0.8471 - val_accuracy: 0.9250\n",
            "Epoch 10/50\n",
            "23/23 [==============================] - 6s 276ms/step - loss: 0.0825 - accuracy: 0.9833 - val_loss: 1.1146 - val_accuracy: 0.9000\n",
            "Epoch 11/50\n",
            "23/23 [==============================] - 6s 272ms/step - loss: 0.0895 - accuracy: 0.9806 - val_loss: 2.4085 - val_accuracy: 0.7750\n",
            "Epoch 12/50\n",
            "23/23 [==============================] - 6s 268ms/step - loss: 0.0247 - accuracy: 0.9972 - val_loss: 1.9777 - val_accuracy: 0.8000\n",
            "Epoch 13/50\n",
            "23/23 [==============================] - 6s 266ms/step - loss: 0.0343 - accuracy: 0.9917 - val_loss: 0.6304 - val_accuracy: 0.8500\n",
            "Epoch 14/50\n",
            "23/23 [==============================] - 6s 264ms/step - loss: 0.0102 - accuracy: 0.9972 - val_loss: 0.5418 - val_accuracy: 0.9000\n",
            "Epoch 15/50\n",
            "23/23 [==============================] - 6s 264ms/step - loss: 0.0102 - accuracy: 0.9944 - val_loss: 0.8917 - val_accuracy: 0.8750\n",
            "Epoch 16/50\n",
            "23/23 [==============================] - 6s 265ms/step - loss: 0.0217 - accuracy: 0.9972 - val_loss: 0.6542 - val_accuracy: 0.8750\n",
            "Epoch 17/50\n",
            "23/23 [==============================] - 6s 265ms/step - loss: 0.0069 - accuracy: 0.9972 - val_loss: 0.5421 - val_accuracy: 0.9500\n",
            "Epoch 18/50\n",
            "23/23 [==============================] - 6s 267ms/step - loss: 0.0165 - accuracy: 0.9944 - val_loss: 0.4772 - val_accuracy: 0.9500\n",
            "Epoch 19/50\n",
            "23/23 [==============================] - 6s 268ms/step - loss: 0.0123 - accuracy: 0.9972 - val_loss: 0.5313 - val_accuracy: 0.9250\n",
            "Epoch 20/50\n",
            "23/23 [==============================] - 6s 270ms/step - loss: 0.0130 - accuracy: 0.9944 - val_loss: 0.5696 - val_accuracy: 0.8750\n",
            "Epoch 21/50\n",
            "23/23 [==============================] - 6s 271ms/step - loss: 0.0016 - accuracy: 1.0000 - val_loss: 0.4794 - val_accuracy: 0.8750\n",
            "Epoch 22/50\n",
            "23/23 [==============================] - 6s 271ms/step - loss: 0.0024 - accuracy: 1.0000 - val_loss: 0.4423 - val_accuracy: 0.9000\n",
            "Epoch 23/50\n",
            "23/23 [==============================] - 6s 272ms/step - loss: 0.0014 - accuracy: 1.0000 - val_loss: 0.4303 - val_accuracy: 0.9000\n",
            "Epoch 24/50\n",
            "23/23 [==============================] - 6s 271ms/step - loss: 2.5213e-04 - accuracy: 1.0000 - val_loss: 0.4278 - val_accuracy: 0.9000\n",
            "Epoch 25/50\n",
            "23/23 [==============================] - 7s 284ms/step - loss: 0.0051 - accuracy: 0.9972 - val_loss: 0.4776 - val_accuracy: 0.8750\n",
            "Epoch 26/50\n",
            "23/23 [==============================] - 6s 270ms/step - loss: 7.3019e-04 - accuracy: 1.0000 - val_loss: 0.5865 - val_accuracy: 0.8750\n",
            "Epoch 27/50\n",
            "23/23 [==============================] - 6s 269ms/step - loss: 0.0013 - accuracy: 1.0000 - val_loss: 0.4971 - val_accuracy: 0.9250\n",
            "Epoch 28/50\n",
            "23/23 [==============================] - 6s 268ms/step - loss: 0.0014 - accuracy: 1.0000 - val_loss: 0.4590 - val_accuracy: 0.9250\n",
            "Epoch 29/50\n",
            "23/23 [==============================] - 6s 268ms/step - loss: 0.0028 - accuracy: 1.0000 - val_loss: 0.7576 - val_accuracy: 0.9000\n",
            "Epoch 30/50\n",
            "23/23 [==============================] - 6s 268ms/step - loss: 0.0014 - accuracy: 1.0000 - val_loss: 0.7430 - val_accuracy: 0.9000\n",
            "Epoch 31/50\n",
            "23/23 [==============================] - 6s 268ms/step - loss: 3.0669e-04 - accuracy: 1.0000 - val_loss: 0.6638 - val_accuracy: 0.9000\n",
            "Epoch 32/50\n",
            "23/23 [==============================] - 6s 268ms/step - loss: 0.0082 - accuracy: 0.9972 - val_loss: 0.2918 - val_accuracy: 0.9250\n",
            "Epoch 33/50\n",
            "23/23 [==============================] - 6s 268ms/step - loss: 0.0019 - accuracy: 1.0000 - val_loss: 0.2616 - val_accuracy: 0.9250\n",
            "Epoch 34/50\n",
            "23/23 [==============================] - 6s 268ms/step - loss: 0.0057 - accuracy: 0.9972 - val_loss: 0.2696 - val_accuracy: 0.9000\n",
            "Epoch 35/50\n",
            "23/23 [==============================] - 6s 269ms/step - loss: 0.0017 - accuracy: 1.0000 - val_loss: 0.1919 - val_accuracy: 0.9250\n",
            "Epoch 36/50\n",
            "23/23 [==============================] - 6s 269ms/step - loss: 0.0161 - accuracy: 0.9972 - val_loss: 0.2037 - val_accuracy: 0.9250\n",
            "Epoch 37/50\n",
            "23/23 [==============================] - 6s 269ms/step - loss: 0.0450 - accuracy: 0.9833 - val_loss: 1.0996 - val_accuracy: 0.8250\n",
            "Epoch 38/50\n",
            "23/23 [==============================] - 6s 269ms/step - loss: 0.0362 - accuracy: 0.9917 - val_loss: 0.9116 - val_accuracy: 0.8750\n",
            "Epoch 39/50\n",
            "23/23 [==============================] - 6s 283ms/step - loss: 0.0551 - accuracy: 0.9833 - val_loss: 0.5646 - val_accuracy: 0.9000\n",
            "Epoch 40/50\n",
            "23/23 [==============================] - 6s 269ms/step - loss: 0.0481 - accuracy: 0.9833 - val_loss: 1.6411 - val_accuracy: 0.7750\n",
            "Epoch 41/50\n",
            "23/23 [==============================] - 6s 270ms/step - loss: 0.0072 - accuracy: 1.0000 - val_loss: 0.7435 - val_accuracy: 0.8750\n",
            "Epoch 42/50\n",
            "23/23 [==============================] - 6s 270ms/step - loss: 0.0031 - accuracy: 1.0000 - val_loss: 0.5076 - val_accuracy: 0.8500\n",
            "Epoch 43/50\n",
            "23/23 [==============================] - 6s 270ms/step - loss: 0.0223 - accuracy: 0.9917 - val_loss: 0.2934 - val_accuracy: 0.9000\n",
            "Epoch 44/50\n",
            "23/23 [==============================] - 6s 269ms/step - loss: 0.0272 - accuracy: 0.9917 - val_loss: 0.3545 - val_accuracy: 0.9000\n",
            "Epoch 45/50\n",
            "23/23 [==============================] - 6s 269ms/step - loss: 0.0519 - accuracy: 0.9806 - val_loss: 0.9965 - val_accuracy: 0.9000\n",
            "Epoch 46/50\n",
            "23/23 [==============================] - 6s 283ms/step - loss: 0.0364 - accuracy: 0.9861 - val_loss: 0.9740 - val_accuracy: 0.9000\n",
            "Epoch 47/50\n",
            "23/23 [==============================] - 6s 269ms/step - loss: 0.0349 - accuracy: 0.9861 - val_loss: 1.8098 - val_accuracy: 0.8500\n",
            "Epoch 48/50\n",
            "23/23 [==============================] - 6s 268ms/step - loss: 0.2330 - accuracy: 0.9722 - val_loss: 2.6730 - val_accuracy: 0.7750\n",
            "Epoch 49/50\n",
            "23/23 [==============================] - 6s 267ms/step - loss: 0.0446 - accuracy: 0.9861 - val_loss: 0.5299 - val_accuracy: 0.8250\n",
            "Epoch 50/50\n",
            "23/23 [==============================] - 6s 267ms/step - loss: 0.0080 - accuracy: 0.9972 - val_loss: 0.4648 - val_accuracy: 0.8500\n"
          ]
        }
      ]
    },
    {
      "cell_type": "markdown",
      "source": [
        "# Plot accuracy"
      ],
      "metadata": {
        "id": "pAw314Djvng8"
      }
    },
    {
      "cell_type": "code",
      "source": [
        "keys = ['accuracy', 'val_accuracy']\n",
        "progress = {k:v for k,v in history_FineTune.history.items() if k in keys}\n",
        "\n",
        "import pandas as pd\n",
        "pd.DataFrame(progress).plot()\n",
        "\n",
        "plt.xlabel(\"epochs\")\n",
        "plt.ylabel(\"accuracy\")\n",
        "\n",
        "plt.grid(True)\n",
        "plt.show()"
      ],
      "metadata": {
        "colab": {
          "base_uri": "https://localhost:8080/",
          "height": 279
        },
        "id": "Zt_tbGJCvTtY",
        "outputId": "cc7d7412-a0d2-4c65-d838-45fdd6512e49"
      },
      "execution_count": 11,
      "outputs": [
        {
          "output_type": "display_data",
          "data": {
            "text/plain": [
              "<Figure size 432x288 with 1 Axes>"
            ],
            "image/png": "[encoded data removed]"
          },
          "metadata": {
            "needs_background": "light"
          }
        }
      ]
    },
    {
      "cell_type": "markdown",
      "source": [
        "## Evaluate the fine-tuned model\n",
        "- Trained for 50-epochs"
      ],
      "metadata": {
        "id": "PKl5hPdwvvVd"
      }
    },
    {
      "cell_type": "code",
      "source": [
        "testLoss_FineTune, testAccuracy_FineTune = model_FineTune.evaluate(x = X_test_std, y = y_test)\n",
        "print(\"Test-loss: %f, Test-accuracy: %f\" % (testLoss_FineTune, testAccuracy_FineTune))"
      ],
      "metadata": {
        "colab": {
          "base_uri": "https://localhost:8080/"
        },
        "id": "YB3Qad3Svriw",
        "outputId": "f1aad0bd-2f3f-4d85-8090-ac3bf42bdcee"
      },
      "execution_count": 12,
      "outputs": [
        {
          "output_type": "stream",
          "name": "stdout",
          "text": [
            "4/4 [==============================] - 3s 443ms/step - loss: 0.7491 - accuracy: 0.8400\n",
            "Test-loss: 0.749129, Test-accuracy: 0.840000\n"
          ]
        }
      ]
    },
    {
      "cell_type": "markdown",
      "source": [
        "## Update the model with best weights and evaluate\n",
        "- Saved based on the callback"
      ],
      "metadata": {
        "id": "kX5C6ktRv4nh"
      }
    },
    {
      "cell_type": "code",
      "source": [
        "model_FineTune.load_weights(\"bestFT.h5\")\n",
        "\n",
        "testLoss_FineTune, testAccuracy_FineTune = model_FineTune.evaluate(x = X_test_std, y = y_test)\n",
        "\n",
        "print(\"Test-loss: %f, Test-accuracy: %f\" % (testLoss_FineTune, testAccuracy_FineTune))"
      ],
      "metadata": {
        "colab": {
          "base_uri": "https://localhost:8080/"
        },
        "id": "pIPWjQDdv0Pz",
        "outputId": "a3c01267-318b-49d4-e83e-2cae7c98fda1"
      },
      "execution_count": 13,
      "outputs": [
        {
          "output_type": "stream",
          "name": "stdout",
          "text": [
            "4/4 [==============================] - 1s 197ms/step - loss: 1.1089 - accuracy: 0.7600\n",
            "Test-loss: 1.108864, Test-accuracy: 0.760000\n"
          ]
        }
      ]
    },
    {
      "cell_type": "markdown",
      "source": [
        "#Get the prediction of a single sample"
      ],
      "metadata": {
        "id": "vymD_20ZwA1j"
      }
    },
    {
      "cell_type": "code",
      "source": [
        "cProba = model_FineTune.predict(X_test_std[:1])\n",
        "\n",
        "print(cProba)"
      ],
      "metadata": {
        "colab": {
          "base_uri": "https://localhost:8080/"
        },
        "id": "_pwOtksTv76A",
        "outputId": "309b3400-7abc-4f4c-fe1a-5e32338fdc03"
      },
      "execution_count": 15,
      "outputs": [
        {
          "output_type": "stream",
          "name": "stdout",
          "text": [
            "1/1 [==============================] - 1s 891ms/step\n",
            "[[1.9917143e-10 3.1462283e-10 9.9999976e-01 2.8239552e-07 8.6037907e-14]]\n"
          ]
        }
      ]
    },
    {
      "cell_type": "code",
      "source": [
        "cLabel = np.argmax(cProba, axis=-1) \n",
        "\n",
        "print(cLabel)"
      ],
      "metadata": {
        "colab": {
          "base_uri": "https://localhost:8080/"
        },
        "id": "R0gdzlmdwDwP",
        "outputId": "54a273a8-3c2c-4260-8d76-fb6221234a68"
      },
      "execution_count": 16,
      "outputs": [
        {
          "output_type": "stream",
          "name": "stdout",
          "text": [
            "[2]\n"
          ]
        }
      ]
    },
    {
      "cell_type": "code",
      "source": [
        "print(y_test[:1])"
      ],
      "metadata": {
        "colab": {
          "base_uri": "https://localhost:8080/"
        },
        "id": "4h3GKIsqwIa7",
        "outputId": "1b7984d9-3fa2-4c3a-d864-fea03459e638"
      },
      "execution_count": 17,
      "outputs": [
        {
          "output_type": "stream",
          "name": "stdout",
          "text": [
            "[2]\n"
          ]
        }
      ]
    },
    {
      "cell_type": "markdown",
      "source": [
        "#Save the final Fine-Tuned model"
      ],
      "metadata": {
        "id": "SUpUnGfBwKuK"
      }
    },
    {
      "cell_type": "code",
      "source": [
        "# Saves the best model obtained\n",
        "model_FineTune.save('/content/drive/MyDrive/Models/02_Xception_FineTuned_Best_Model.h5')"
      ],
      "metadata": {
        "id": "NUxMGE-_wMCc"
      },
      "execution_count": 18,
      "outputs": []
    }
  ]
}